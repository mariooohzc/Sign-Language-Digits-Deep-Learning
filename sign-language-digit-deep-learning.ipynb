{
 "cells": [
  {
   "cell_type": "code",
   "execution_count": 1,
   "id": "19870aed",
   "metadata": {
    "_cell_guid": "b1076dfc-b9ad-4769-8c92-a6c4dae69d19",
    "_uuid": "8f2839f25d086af736a60e9eeb907d3b93b6e0e5",
    "execution": {
     "iopub.execute_input": "2024-07-30T16:12:00.305834Z",
     "iopub.status.busy": "2024-07-30T16:12:00.305436Z",
     "iopub.status.idle": "2024-07-30T16:12:01.301406Z",
     "shell.execute_reply": "2024-07-30T16:12:01.300088Z"
    },
    "papermill": {
     "duration": 1.007095,
     "end_time": "2024-07-30T16:12:01.304962",
     "exception": false,
     "start_time": "2024-07-30T16:12:00.297867",
     "status": "completed"
    },
    "tags": []
   },
   "outputs": [
    {
     "name": "stdout",
     "output_type": "stream",
     "text": [
      "/kaggle/input/sign-language-digits-dataset/Y.npy\n",
      "/kaggle/input/sign-language-digits-dataset/X.npy\n",
      "/kaggle/input/sign-language-digits-dataset/Sign-language-digits-dataset/Y.npy\n",
      "/kaggle/input/sign-language-digits-dataset/Sign-language-digits-dataset/X.npy\n"
     ]
    }
   ],
   "source": [
    "# This Python 3 environment comes with many helpful analytics libraries installed\n",
    "# It is defined by the kaggle/python Docker image: https://github.com/kaggle/docker-python\n",
    "# For example, here's several helpful packages to load\n",
    "\n",
    "import numpy as np # linear algebra\n",
    "import pandas as pd # data processing, CSV file I/O (e.g. pd.read_csv)\n",
    "\n",
    "# Input data files are available in the read-only \"../input/\" directory\n",
    "# For example, running this (by clicking run or pressing Shift+Enter) will list all files under the input directory\n",
    "\n",
    "import os\n",
    "for dirname, _, filenames in os.walk('/kaggle/input'):\n",
    "    for filename in filenames:\n",
    "        print(os.path.join(dirname, filename))\n",
    "\n",
    "# You can write up to 20GB to the current directory (/kaggle/working/) that gets preserved as output when you create a version using \"Save & Run All\" \n",
    "# You can also write temporary files to /kaggle/temp/, but they won't be saved outside of the current session"
   ]
  },
  {
   "cell_type": "code",
   "execution_count": 2,
   "id": "557b4adf",
   "metadata": {
    "execution": {
     "iopub.execute_input": "2024-07-30T16:12:01.318833Z",
     "iopub.status.busy": "2024-07-30T16:12:01.318276Z",
     "iopub.status.idle": "2024-07-30T16:12:01.330236Z",
     "shell.execute_reply": "2024-07-30T16:12:01.328791Z"
    },
    "papermill": {
     "duration": 0.022088,
     "end_time": "2024-07-30T16:12:01.333278",
     "exception": false,
     "start_time": "2024-07-30T16:12:01.311190",
     "status": "completed"
    },
    "tags": []
   },
   "outputs": [
    {
     "name": "stdout",
     "output_type": "stream",
     "text": [
      "sign-language-digits-dataset\n",
      "\n"
     ]
    }
   ],
   "source": [
    "import numpy as np\n",
    "import pandas as pd\n",
    "import matplotlib.pyplot as plt\n",
    "\n",
    "import warnings\n",
    "warnings.filterwarnings('ignore')\n",
    "\n",
    "from subprocess import check_output\n",
    "print(check_output([\"ls\", \"../input\"]).decode(\"utf8\"))"
   ]
  },
  {
   "cell_type": "code",
   "execution_count": 3,
   "id": "2ef96e68",
   "metadata": {
    "execution": {
     "iopub.execute_input": "2024-07-30T16:12:01.347757Z",
     "iopub.status.busy": "2024-07-30T16:12:01.346481Z",
     "iopub.status.idle": "2024-07-30T16:12:01.866835Z",
     "shell.execute_reply": "2024-07-30T16:12:01.865508Z"
    },
    "papermill": {
     "duration": 0.53033,
     "end_time": "2024-07-30T16:12:01.869670",
     "exception": false,
     "start_time": "2024-07-30T16:12:01.339340",
     "status": "completed"
    },
    "tags": []
   },
   "outputs": [],
   "source": [
    "x = np.load('../input/sign-language-digits-dataset/X.npy')\n",
    "y = np.load('../input/sign-language-digits-dataset/Y.npy')"
   ]
  },
  {
   "cell_type": "code",
   "execution_count": 4,
   "id": "3d6fd282",
   "metadata": {
    "execution": {
     "iopub.execute_input": "2024-07-30T16:12:01.884042Z",
     "iopub.status.busy": "2024-07-30T16:12:01.883174Z",
     "iopub.status.idle": "2024-07-30T16:12:01.895166Z",
     "shell.execute_reply": "2024-07-30T16:12:01.893868Z"
    },
    "papermill": {
     "duration": 0.022211,
     "end_time": "2024-07-30T16:12:01.897942",
     "exception": false,
     "start_time": "2024-07-30T16:12:01.875731",
     "status": "completed"
    },
    "tags": []
   },
   "outputs": [
    {
     "name": "stdout",
     "output_type": "stream",
     "text": [
      "x shape:  (410, 64, 64)\n",
      "y shape:  (410, 1)\n"
     ]
    }
   ],
   "source": [
    "x = np.concatenate((x[204:409], x[822:1027]), axis = 0)\n",
    "y = np.concatenate((np.zeros(205), np.ones(205))).reshape(410,1)\n",
    "print(\"x shape: \", x.shape)\n",
    "print(\"y shape: \", y.shape)"
   ]
  },
  {
   "cell_type": "markdown",
   "id": "6979c238",
   "metadata": {
    "papermill": {
     "duration": 0.005438,
     "end_time": "2024-07-30T16:12:01.909315",
     "exception": false,
     "start_time": "2024-07-30T16:12:01.903877",
     "status": "completed"
    },
    "tags": []
   },
   "source": [
    "afterwards, i shall flatten x from a 3d array into a 2d array because the input layer of the model is 1d"
   ]
  },
  {
   "cell_type": "code",
   "execution_count": 5,
   "id": "ff3adb35",
   "metadata": {
    "execution": {
     "iopub.execute_input": "2024-07-30T16:12:01.923152Z",
     "iopub.status.busy": "2024-07-30T16:12:01.922198Z",
     "iopub.status.idle": "2024-07-30T16:12:01.927857Z",
     "shell.execute_reply": "2024-07-30T16:12:01.926647Z"
    },
    "papermill": {
     "duration": 0.015319,
     "end_time": "2024-07-30T16:12:01.930343",
     "exception": false,
     "start_time": "2024-07-30T16:12:01.915024",
     "status": "completed"
    },
    "tags": []
   },
   "outputs": [],
   "source": [
    "x_flatten = x.reshape(410, 64 * 64)"
   ]
  },
  {
   "cell_type": "code",
   "execution_count": 6,
   "id": "1fc4d2a5",
   "metadata": {
    "execution": {
     "iopub.execute_input": "2024-07-30T16:12:01.943550Z",
     "iopub.status.busy": "2024-07-30T16:12:01.943113Z",
     "iopub.status.idle": "2024-07-30T16:12:03.335109Z",
     "shell.execute_reply": "2024-07-30T16:12:03.333778Z"
    },
    "papermill": {
     "duration": 1.401606,
     "end_time": "2024-07-30T16:12:03.337721",
     "exception": false,
     "start_time": "2024-07-30T16:12:01.936115",
     "status": "completed"
    },
    "tags": []
   },
   "outputs": [
    {
     "name": "stdout",
     "output_type": "stream",
     "text": [
      "x train shape :  (348, 4096)\n",
      "x test shape :  (62, 4096)\n",
      "y train shape :  (348, 1)\n",
      "y test shape :  (62, 1)\n"
     ]
    }
   ],
   "source": [
    "from sklearn.model_selection import train_test_split\n",
    "x_train, x_test, y_train, y_test = train_test_split(x_flatten, y, test_size=0.15, random_state=42)\n",
    "print(\"x train shape : \", x_train.shape)\n",
    "print(\"x test shape : \", x_test.shape)\n",
    "print(\"y train shape : \", y_train.shape)\n",
    "print(\"y test shape : \", y_test.shape)"
   ]
  },
  {
   "cell_type": "code",
   "execution_count": 7,
   "id": "36cfbf3a",
   "metadata": {
    "execution": {
     "iopub.execute_input": "2024-07-30T16:12:03.351296Z",
     "iopub.status.busy": "2024-07-30T16:12:03.350898Z",
     "iopub.status.idle": "2024-07-30T16:12:03.358490Z",
     "shell.execute_reply": "2024-07-30T16:12:03.357224Z"
    },
    "papermill": {
     "duration": 0.017902,
     "end_time": "2024-07-30T16:12:03.361584",
     "exception": false,
     "start_time": "2024-07-30T16:12:03.343682",
     "status": "completed"
    },
    "tags": []
   },
   "outputs": [
    {
     "name": "stdout",
     "output_type": "stream",
     "text": [
      "x train shape :  (4096, 348)\n",
      "x test shape :  (4096, 62)\n",
      "y train shape :  (1, 348)\n",
      "y test shape :  (1, 62)\n"
     ]
    }
   ],
   "source": [
    "x_train = x_train.T\n",
    "x_test = x_test.T\n",
    "y_train = y_train.T\n",
    "y_test = y_test.T\n",
    "print(\"x train shape : \", x_train.shape)\n",
    "print(\"x test shape : \", x_test.shape)\n",
    "print(\"y train shape : \", y_train.shape)\n",
    "print(\"y test shape : \", y_test.shape)"
   ]
  },
  {
   "cell_type": "code",
   "execution_count": 8,
   "id": "e1f6d5dd",
   "metadata": {
    "execution": {
     "iopub.execute_input": "2024-07-30T16:12:03.376131Z",
     "iopub.status.busy": "2024-07-30T16:12:03.375754Z",
     "iopub.status.idle": "2024-07-30T16:12:03.381742Z",
     "shell.execute_reply": "2024-07-30T16:12:03.380474Z"
    },
    "papermill": {
     "duration": 0.016233,
     "end_time": "2024-07-30T16:12:03.384302",
     "exception": false,
     "start_time": "2024-07-30T16:12:03.368069",
     "status": "completed"
    },
    "tags": []
   },
   "outputs": [],
   "source": [
    "def initialise(dimension):\n",
    "    w = np.full((dimension, 1), 0.01) #w is a column vector\n",
    "    b = 0.0\n",
    "    return w, b"
   ]
  },
  {
   "cell_type": "markdown",
   "id": "a7ea17ae",
   "metadata": {
    "papermill": {
     "duration": 0.005565,
     "end_time": "2024-07-30T16:12:03.395909",
     "exception": false,
     "start_time": "2024-07-30T16:12:03.390344",
     "status": "completed"
    },
    "tags": []
   },
   "source": [
    "Since I am doing a classification tasks, the loss function shall be the cross-entropy loss which has the following formula:\n",
    "$ loss = -y_ilog(\\hat{y}_i) -(1-y_i)log(1-\\hat{y}_i) $\n",
    "\n",
    "\n",
    "I shall let $J(w) = \\frac{1}{m} \\sum_{i=1}^{m} [-y_ilog(\\hat{y_i})-(1-y_i)log(1-\\hat{y_i})]$ where m is the number of training examples (images/data) because we want to find the average cost/loss of all images being used. Averaging helps to normalise the loss and gradients, making them independent of the number of training examples and ensuring that the weights are not disproprtionately small or large.\n",
    "\n",
    "\n",
    "You can also calculate the partial derivative of the loss function with respect to the $j^{th}$ weight which would be $\\frac{\\partial{loss}}{\\partial{w_j}} = \\frac{1}{m} \\sum_{i=1}^{m} \\left(\\hat{y}_i  - y_i \\right) x_i^{(j)}$ where j is the weight $\\in \\mathbb{Z}$ and $ 1\\le j \\le 4096$ \n",
    "\n",
    "\n",
    "The equation for gradient descent is: $ w := w - \\alpha \\frac{\\partial{loss}}{\\partial{w}} $ where w is the weight\n",
    "\n",
    "\n",
    "The vectorised gradient is then $\\nabla_{w} J(w) = \\frac{1}{m} X^T \\left( h_w(X) - y \\right)$ where the first layer of the resulting matrix is going to be $\\frac{\\partial{loss}}{\\partial{w_i}}$, the second layer is $\\frac{\\partial{loss}}{\\partial{w_2}}$, and so on...\n"
   ]
  },
  {
   "cell_type": "code",
   "execution_count": 9,
   "id": "ca6eb3c7",
   "metadata": {
    "execution": {
     "iopub.execute_input": "2024-07-30T16:12:03.409595Z",
     "iopub.status.busy": "2024-07-30T16:12:03.409187Z",
     "iopub.status.idle": "2024-07-30T16:12:03.419175Z",
     "shell.execute_reply": "2024-07-30T16:12:03.418108Z"
    },
    "papermill": {
     "duration": 0.020023,
     "end_time": "2024-07-30T16:12:03.421793",
     "exception": false,
     "start_time": "2024-07-30T16:12:03.401770",
     "status": "completed"
    },
    "tags": []
   },
   "outputs": [],
   "source": [
    "def sigmoid(z):\n",
    "    return 1/(1 + np.exp(-z))\n",
    "\n",
    "def ce_loss(y_train, y_hat):\n",
    "    #each row of the resulting vector is the loss/cost for each images\n",
    "    #need to find and return the average of the cost\n",
    "    return np.mean(-y_train * np.log(y_hat) - (1 - y_train) * np.log(1 - y_hat))\n",
    "\n",
    "def forward_backward(w, b, x_train, y_train):\n",
    "    #forward propagation\n",
    "    z = np.dot(w.T, x_train) + b\n",
    "    y_hat = sigmoid(z) #y_hat and y_train are also a row vector with 348 columns (1, 348)\n",
    "    loss = ce_loss(y_train, y_hat)\n",
    "    \n",
    "    #backward propagation\n",
    "    #return the partial derivative of loss function with respect to each parameters\n",
    "    #x_train has a shape of (4096, 348)\n",
    "    #therefore, I am performing transposition of y_train - y_hat so that is has a shape of (348, 1)\n",
    "    d_weights = np.dot(x_train, (y_hat - y_train).T)/x_train.shape[1] #shape is (4096, 1) -> column vector\n",
    "    d_bias = np.sum(y_hat - y_train)/x_train.shape[1]    \n",
    "    gradients = {\"weights\": d_weights, \"bias\": d_bias}\n",
    "    return gradients, loss"
   ]
  },
  {
   "cell_type": "code",
   "execution_count": 10,
   "id": "659970f7",
   "metadata": {
    "execution": {
     "iopub.execute_input": "2024-07-30T16:12:03.435474Z",
     "iopub.status.busy": "2024-07-30T16:12:03.435047Z",
     "iopub.status.idle": "2024-07-30T16:12:03.444843Z",
     "shell.execute_reply": "2024-07-30T16:12:03.443527Z"
    },
    "papermill": {
     "duration": 0.019639,
     "end_time": "2024-07-30T16:12:03.447411",
     "exception": false,
     "start_time": "2024-07-30T16:12:03.427772",
     "status": "completed"
    },
    "tags": []
   },
   "outputs": [],
   "source": [
    "def fit(epoch, alpha, x_train, y_train):\n",
    "    #return parameters, gradients, cost_list\n",
    "    #plotting graph of cost against iteration rounds\n",
    "    w, b = initialise(x_train.shape[0])\n",
    "    cost_list = list()\n",
    "    cost2_list = list()\n",
    "    \n",
    "    for i in range(epoch):\n",
    "        gradients, loss = forward_backward(w, b, x_train, y_train)\n",
    "        w -= (alpha * gradients[\"weights\"])\n",
    "        b -= (alpha * gradients[\"bias\"])\n",
    "        cost_list.append(loss)\n",
    "        if i % 10 == 0:\n",
    "            cost2_list.append(loss)\n",
    "            print(f\"Cost after iteration {i}: {loss}\")\n",
    "    plt.plot([i * 10 for i in range(len(cost2_list))], cost2_list)\n",
    "    plt.xlabel(\"Number of epochs\")\n",
    "    plt.ylabel(\"Cost\")\n",
    "    plt.show()\n",
    "    return {\"weights\":w, \"bias\":b}, gradients, cost_list"
   ]
  },
  {
   "cell_type": "code",
   "execution_count": 11,
   "id": "db51d110",
   "metadata": {
    "execution": {
     "iopub.execute_input": "2024-07-30T16:12:03.461857Z",
     "iopub.status.busy": "2024-07-30T16:12:03.460861Z",
     "iopub.status.idle": "2024-07-30T16:12:03.468862Z",
     "shell.execute_reply": "2024-07-30T16:12:03.467741Z"
    },
    "papermill": {
     "duration": 0.01784,
     "end_time": "2024-07-30T16:12:03.471420",
     "exception": false,
     "start_time": "2024-07-30T16:12:03.453580",
     "status": "completed"
    },
    "tags": []
   },
   "outputs": [],
   "source": [
    "def predict(epoch, alpha, x_train, y_train, x_test):\n",
    "    weights_and_bias, gradients, cost_list = fit(epoch, alpha, x_train,y_train)\n",
    "    w = weights_and_bias[\"weights\"]\n",
    "    b = weights_and_bias[\"bias\"]\n",
    "    z = np.dot(w.T, x_test) + b\n",
    "    y_hat = sigmoid(z)\n",
    "    return np.where(y_hat >= 0.5, 1, 0)"
   ]
  },
  {
   "cell_type": "code",
   "execution_count": 12,
   "id": "8caa308c",
   "metadata": {
    "execution": {
     "iopub.execute_input": "2024-07-30T16:12:03.485524Z",
     "iopub.status.busy": "2024-07-30T16:12:03.485139Z",
     "iopub.status.idle": "2024-07-30T16:12:06.061255Z",
     "shell.execute_reply": "2024-07-30T16:12:06.059424Z"
    },
    "papermill": {
     "duration": 2.587527,
     "end_time": "2024-07-30T16:12:06.065304",
     "exception": false,
     "start_time": "2024-07-30T16:12:03.477777",
     "status": "completed"
    },
    "tags": []
   },
   "outputs": [
    {
     "name": "stdout",
     "output_type": "stream",
     "text": [
      "Cost after iteration 0: 14.014222401929988\n",
      "Cost after iteration 10: 1.9185348888991882\n",
      "Cost after iteration 20: 1.7503649743452963\n",
      "Cost after iteration 30: 1.6535238227860232\n",
      "Cost after iteration 40: 1.5609559755938174\n",
      "Cost after iteration 50: 1.4577445315300086\n",
      "Cost after iteration 60: 1.3354950822952356\n",
      "Cost after iteration 70: 1.191800023944936\n",
      "Cost after iteration 80: 1.0275108866404417\n",
      "Cost after iteration 90: 0.8430995927556606\n",
      "Cost after iteration 100: 0.6398899598449164\n",
      "Cost after iteration 110: 0.4325953153240531\n",
      "Cost after iteration 120: 0.27819155102645077\n",
      "Cost after iteration 130: 0.22160871009229455\n",
      "Cost after iteration 140: 0.20897225691268714\n",
      "Cost after iteration 150: 0.2034150756197586\n",
      "Cost after iteration 160: 0.19875375473314347\n",
      "Cost after iteration 170: 0.19444591698389074\n",
      "Cost after iteration 180: 0.19043273744029712\n",
      "Cost after iteration 190: 0.18668325341088549\n"
     ]
    },
    {
     "data": {
      "image/png": "[encoded data removed]",
      "text/plain": [
       "<Figure size 640x480 with 1 Axes>"
      ]
     },
     "metadata": {},
     "output_type": "display_data"
    },
    {
     "name": "stdout",
     "output_type": "stream",
     "text": [
      "Cost after iteration 0: 14.014222401929988\n",
      "Cost after iteration 10: 1.9185348888991882\n",
      "Cost after iteration 20: 1.7503649743452963\n",
      "Cost after iteration 30: 1.6535238227860232\n",
      "Cost after iteration 40: 1.5609559755938174\n",
      "Cost after iteration 50: 1.4577445315300086\n",
      "Cost after iteration 60: 1.3354950822952356\n",
      "Cost after iteration 70: 1.191800023944936\n",
      "Cost after iteration 80: 1.0275108866404417\n",
      "Cost after iteration 90: 0.8430995927556606\n",
      "Cost after iteration 100: 0.6398899598449164\n",
      "Cost after iteration 110: 0.4325953153240531\n",
      "Cost after iteration 120: 0.27819155102645077\n",
      "Cost after iteration 130: 0.22160871009229455\n",
      "Cost after iteration 140: 0.20897225691268714\n",
      "Cost after iteration 150: 0.2034150756197586\n",
      "Cost after iteration 160: 0.19875375473314347\n",
      "Cost after iteration 170: 0.19444591698389074\n",
      "Cost after iteration 180: 0.19043273744029712\n",
      "Cost after iteration 190: 0.18668325341088549\n"
     ]
    },
    {
     "data": {
      "image/png": "[encoded data removed]",
      "text/plain": [
       "<Figure size 640x480 with 1 Axes>"
      ]
     },
     "metadata": {},
     "output_type": "display_data"
    },
    {
     "name": "stdout",
     "output_type": "stream",
     "text": [
      "here is the prediction for the testing dataset: \n",
      "[[0 0 0 0 0 0 1 1 1 1 0 1 1 1 0 0 1 0 0 0 1 1 0 0 0 0 1 0 0 0 1 1 1 0 1 0\n",
      "  1 1 0 1 1 1 1 1 0 1 1 1 0 1 0 0 0 0 0 0 0 1 0 0 0 1]]\n",
      "\n",
      "summary of results:\n",
      "training accuracy:  93.67816091954023\n",
      "testing accuracy:  95.16129032258065\n"
     ]
    }
   ],
   "source": [
    "def log_regression(epoch, alpha, x_train, y_train, x_test, y_test):\n",
    "    #training accuracy\n",
    "    y_train_prediction = predict(epoch, alpha, x_train, y_train, x_train)\n",
    "    y_test_prediction = predict(epoch, alpha, x_train, y_train, x_test)\n",
    "    \n",
    "    print(\"here is the prediction for the testing dataset: \")\n",
    "    print(y_test_prediction)\n",
    "    \n",
    "    print(\"\\nsummary of results:\")\n",
    "    training_accuracy = (np.sum(y_train_prediction == y_train)/y_train.shape[1]) * 100\n",
    "    print(\"training accuracy: \", training_accuracy)\n",
    "    \n",
    "    test_accuracy = (np.sum(y_test_prediction == y_test)/y_test.shape[1]) * 100\n",
    "    print(\"testing accuracy: \", test_accuracy)\n",
    "\n",
    "log_regression(200, 0.009, x_train, y_train, x_test, y_test)"
   ]
  }
 ],
 "metadata": {
  "kaggle": {
   "accelerator": "none",
   "dataSources": [
    {
     "datasetId": 7836,
     "sourceId": 11071,
     "sourceType": "datasetVersion"
    }
   ],
   "dockerImageVersionId": 30746,
   "isGpuEnabled": false,
   "isInternetEnabled": true,
   "language": "python",
   "sourceType": "notebook"
  },
  "kernelspec": {
   "display_name": "Python 3",
   "language": "python",
   "name": "python3"
  },
  "language_info": {
   "codemirror_mode": {
    "name": "ipython",
    "version": 3
   },
   "file_extension": ".py",
   "mimetype": "text/x-python",
   "name": "python",
   "nbconvert_exporter": "python",
   "pygments_lexer": "ipython3",
   "version": "3.10.13"
  },
  "papermill": {
   "default_parameters": {},
   "duration": 9.631482,
   "end_time": "2024-07-30T16:12:06.711704",
   "environment_variables": {},
   "exception": null,
   "input_path": "__notebook__.ipynb",
   "output_path": "__notebook__.ipynb",
   "parameters": {},
   "start_time": "2024-07-30T16:11:57.080222",
   "version": "2.5.0"
  }
 },
 "nbformat": 4,
 "nbformat_minor": 5
}
